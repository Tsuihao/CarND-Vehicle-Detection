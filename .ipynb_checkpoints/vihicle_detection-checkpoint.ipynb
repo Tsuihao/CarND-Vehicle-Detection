{
 "cells": [
  {
   "cell_type": "code",
   "execution_count": 51,
   "metadata": {},
   "outputs": [],
   "source": [
    "import cv2\n",
    "import matplotlib.pyplot as plt\n",
    "import matplotlib.image as mpimg\n",
    "import glob\n",
    "import pickle\n",
    "import numpy as np\n",
    "from skimage.feature import hog\n",
    "from sklearn.svm import LinearSVC\n",
    "from sklearn.model_selection import train_test_split\n",
    "from sklearn.preprocessing import StandardScaler\n",
    "%matplotlib inline"
   ]
  },
  {
   "cell_type": "markdown",
   "metadata": {},
   "source": [
    "## Extract features"
   ]
  },
  {
   "cell_type": "code",
   "execution_count": 52,
   "metadata": {},
   "outputs": [],
   "source": [
    "class FeatureExtractor(object):\n",
    "    \n",
    "    \n",
    "    def _color_hist(self, img, nbins=32, bins_range=(0, 256), visual=False):\n",
    "        '''\n",
    "        Get histogram of color information in each channel\n",
    "        '''\n",
    "        # Compute each channel\n",
    "        hist_0 = np.histogram(img[:,:,0], bins=nbins, range=bins_range)\n",
    "        hist_1 = np.histogram(img[:,:,1], bins=nbins, range=bins_range)\n",
    "        hist_2 = np.histogram(img[:,:,2], bins=nbins, range=bins_range)\n",
    "        \n",
    "        # Generate histogram center\n",
    "        if(visual):\n",
    "            hist_edges = hist_0[1]\n",
    "            hist_enters = (hist_edges[0:len(hist_edges)-1] + hist_edges[1:])/2\n",
    "            \n",
    "        hist_features = np.concatenate((hist_0[0], hist_1[0], hist_2[0]))\n",
    "        \n",
    "        if(visual):\n",
    "            return hist_0, hist_1, hist_2, hist_enters, hist_features\n",
    "        else:\n",
    "            return hist_features\n",
    "        \n",
    "    def _bin_spatial(self, img, size=(32, 32)):\n",
    "        '''\n",
    "        resize the image and flatten the features\n",
    "        '''\n",
    "        features = cv2.resize(img, size).ravel()\n",
    "        return features\n",
    "        \n",
    "    def _hog(self, img, orient=9, pixs_per_cell=8, cells_per_block=2, feature_vec=True, hog_channel=0):\n",
    "        '''\n",
    "        Wrapper class of skimage.hog\n",
    "        '''\n",
    "        hog_features = hog(img[:,:,0], orientations=orient, \n",
    "                           pixels_per_cell=(pixs_per_cell, pixs_per_cell),\n",
    "                           cells_per_block=(cells_per_block, cells_per_block), \n",
    "                           block_norm= 'L2-Hys',\n",
    "                           transform_sqrt=False,\n",
    "                           feature_vector=feature_vec)\n",
    "        return hog_features\n",
    "    \n",
    "    def _hog_vis(self, img, orient=9, pixs_per_cell=8, cells_per_block=2, vis = True,feature_vec=True, hog_channel=0):\n",
    "        \n",
    "        \n",
    "        hog_features, hog_image = hog(img[:,:,0], orientations=orient, \n",
    "                   pixels_per_cell=(pixs_per_cell, pixs_per_cell),\n",
    "                   cells_per_block=(cells_per_block, cells_per_block), \n",
    "                   block_norm= 'L2-Hys',\n",
    "                   transform_sqrt=False,\n",
    "                   visualise=True,\n",
    "                   feature_vector=feature_vec)\n",
    "        \n",
    "        return hog_features, hog_image\n",
    "        \n",
    "    def extract_features(self, image_paths, color_space='RGB',\n",
    "                         use_spatial_bin = True,\n",
    "                         use_color_hist = True,\n",
    "                         use_hog = True,\n",
    "                         orient=9,\n",
    "                         pixs_per_cell=8,\n",
    "                         cells_per_block=2,\n",
    "                         hog_channel=0,\n",
    "                         spatial_size=(32,32),\n",
    "                         hist_bins=32, \n",
    "                         hist_range=(0, 256)):\n",
    "        '''\n",
    "        Warper of _bin_spatial, _color_hist, and _hog\n",
    "        '''\n",
    "\n",
    "        all_features = []\n",
    "        # Convert the images to specify color space\n",
    "        for image_path in image_paths:\n",
    "            img = mpimg.imread(image_path)\n",
    "            \n",
    "            features = [] # temp\n",
    "            if color_space == 'RGB':\n",
    "                feature_img = np.copy(img)\n",
    "            elif color_space == 'HSV':\n",
    "                feature_img = cv2.cvtColor(img, cv2.COLOR_RGB2HSV)\n",
    "            elif color_space == 'LUV':\n",
    "                feature_img = cv2.cvtColor(img, cv2.COLOR_RGB2LUV)\n",
    "            elif color_space == 'HLS':\n",
    "                feature_img = cv2.cvtColor(img, cv2.COLOR_RGB2HLS)\n",
    "            \n",
    "            if(use_spatial_bin):\n",
    "                bin_feature = self._bin_spatial(feature_img, size=spatial_size)\n",
    "                features.append(bin_feature)\n",
    "            if(use_color_hist):\n",
    "                color_hist_feature = self._color_hist(feature_img, nbins=hist_bins,\n",
    "                                                      bins_range=hist_range)\n",
    "                features.append(color_hist_feature)\n",
    "            if(use_hog):\n",
    "                hog_feature = self._hog(feature_img)\n",
    "                features.append(hog_feature)\n",
    "        \n",
    "            all_features.append(np.concatenate(features))\n",
    "        \n",
    "        return all_features\n",
    "        "
   ]
  },
  {
   "cell_type": "markdown",
   "metadata": {},
   "source": [
    "## Unit test "
   ]
  },
  {
   "cell_type": "code",
   "execution_count": 53,
   "metadata": {},
   "outputs": [],
   "source": [
    "fe = FeatureExtractor()\n",
    "test_img = mpimg.imread('test_images/image0007.png')\n",
    "hog_feature, hog_img = fe._hog_vis(img=test_img)"
   ]
  },
  {
   "cell_type": "code",
   "execution_count": 54,
   "metadata": {},
   "outputs": [
    {
     "data": {
      "text/plain": [
       "<matplotlib.image.AxesImage at 0x1ca5fdd8>"
      ]
     },
     "execution_count": 54,
     "metadata": {},
     "output_type": "execute_result"
    },
    {
     "data": {
      "image/png": "[encoded data removed]",
      "text/plain": [
       "<matplotlib.figure.Figure at 0x1bf3db70>"
      ]
     },
     "metadata": {},
     "output_type": "display_data"
    }
   ],
   "source": [
    "plt.figure(figsize=(12,8), dpi=100)\n",
    "plt.subplot(121)\n",
    "plt.title('Original')\n",
    "plt.imshow(test_img)\n",
    "plt.subplot(122)\n",
    "plt.title('HOG')\n",
    "plt.imshow(hog_img,'gray')"
   ]
  },
  {
   "cell_type": "code",
   "execution_count": 62,
   "metadata": {},
   "outputs": [],
   "source": [
    "class VehicleClassifier(object):\n",
    "    '''\n",
    "    * explore the dataset\n",
    "    * specify the classifier\n",
    "    * train/test the classifier\n",
    "    '''\n",
    "    \n",
    "    def __init__(self):\n",
    "        self.clf = LinearSVC() # use SVM\n",
    "        self.fe = FeatureExtractor() # Feature extractor as component\n",
    "        self.scaler = None\n",
    "        self.car_paths = None\n",
    "        self.nocar_paths = None\n",
    "    \n",
    "    def merge_dataset(self):\n",
    "        '''\n",
    "        Merge the data into one and save as a pickle file\n",
    "        Buffer the paths into memeber variables\n",
    "        '''\n",
    "        \n",
    "        car1 = glob.glob('../Vehicle-Detection-Dataset/vehicles/GTI_Far/*.png')\n",
    "        car2 = glob.glob('../Vehicle-Detection-Dataset/vehicles/GTI_Left/*.png')\n",
    "        car3 = glob.glob('../Vehicle-Detection-Dataset/vehicles/GTI_MiddleClose/*.png')\n",
    "        car4 = glob.glob('../Vehicle-Detection-Dataset/vehicles/GTI_Right/*.png')\n",
    "        car5 = glob.glob('../Vehicle-Detection-Dataset/vehicles/KITTI_extracted/*.png')\n",
    "        self.car_paths = car1 + car2 + car3 + car4 +car5 # Buffer to member variable\n",
    "        \n",
    "        nocar1 = glob.glob('../Vehicle-Detection-Dataset/non-vehicles/Extras/*.png')\n",
    "        nocar2 = glob.glob('../Vehicle-Detection-Dataset/non-vehicles/GTI/*.png')\n",
    "        self.nocar_paths = nocar1 + nocar2 # Buffer to member variable\n",
    "        \n",
    "        print('Dataset contains {} car images'.format(len(self.car_paths)))\n",
    "        print('Dataset contains {} nocar images'.format(len(self.nocar_paths)))\n",
    "        \n",
    "        paths ={}\n",
    "        paths['car_paths'] = self.car_paths\n",
    "        paths['nocar_paths'] = self.nocar_paths\n",
    "        # Save into pickle \n",
    "        with open ('car_nocar_paths', 'wb') as f:\n",
    "            pickle.dump(paths, f)\n",
    "            print('Save the cars/nocars paths')\n",
    "            \n",
    "    def load_dataset(self, fname='car_nocar_paths'):\n",
    "        '''\n",
    "        Load the paths into memeber variables\n",
    "        '''\n",
    "        with open(fname, 'rb') as f:\n",
    "            paths = pickle.load(f)\n",
    "            self.car_paths = paths['car_paths']\n",
    "            self.nocar_paths = paths['nocar_paths']\n",
    "            print('Load car_nocar_paths to member variable!')\n",
    "    \n",
    "    def extract_features(self):\n",
    "        '''\n",
    "        Use class FeatureExtractor\n",
    "        '''\n",
    "        car_features = self.fe.extract_features(image_paths=self.car_paths)\n",
    "        nocar_features = self.fe.extract_features(image_paths=self.nocar_paths)\n",
    "        # same col -> vstack\n",
    "        features = np.vstack((car_features, nocar_features)).astype(np.float64)\n",
    "        \n",
    "        # Feature scaling\n",
    "        self.features = StandardScaler().fit_transform(features)\n",
    "        # same row -> hstack\n",
    "        self.labels = np.hstack([np.ones(len(car_features)), np.zeros(len(nocar_features))])\n",
    "              \n",
    "    \n",
    "    def train_valid(self):\n",
    "        '''\n",
    "        Wraper function of train and valid process\n",
    "        '''\n",
    "        X_train, X_valid, y_train, y_valid = train_test_split(self.features,\n",
    "                                                              self.labels,\n",
    "                                                              test_size= 0.2)\n",
    "        self.clf.fit(X_train, y_train)\n",
    "        self.valid_acc = self.clf.score(X_valid, y_valid)\n",
    "        print('The valid accuracy is {}%'.format(self.valid_acc))\n",
    "        \n",
    "    \n",
    "    #def predict(self):\n",
    "        \n",
    "        \n",
    "    \n",
    "        "
   ]
  },
  {
   "cell_type": "code",
   "execution_count": 63,
   "metadata": {},
   "outputs": [
    {
     "name": "stdout",
     "output_type": "stream",
     "text": [
      "Load car_nocar_paths to member variable!\n"
     ]
    }
   ],
   "source": [
    "cls = VehicleClassifier()\n",
    "#cls.merge_dataset() # execute once\n",
    "cls.load_dataset()"
   ]
  },
  {
   "cell_type": "code",
   "execution_count": 64,
   "metadata": {},
   "outputs": [],
   "source": [
    "features = cls.extract_features()"
   ]
  },
  {
   "cell_type": "code",
   "execution_count": 65,
   "metadata": {},
   "outputs": [
    {
     "name": "stdout",
     "output_type": "stream",
     "text": [
      "The valid accuracy is 0.9524211711711712%\n"
     ]
    }
   ],
   "source": [
    "cls.train_valid()"
   ]
  },
  {
   "cell_type": "markdown",
   "metadata": {},
   "source": [
    "## PipeLine\n",
    "1. Extract the vehicle features from the dataset\n",
    "2. Train classifier\n",
    "3. Sliding windows\n",
    "4. Fusing the multiple windows"
   ]
  },
  {
   "cell_type": "code",
   "execution_count": null,
   "metadata": {},
   "outputs": [],
   "source": []
  }
 ],
 "metadata": {
  "kernelspec": {
   "display_name": "Python [default]",
   "language": "python",
   "name": "python3"
  },
  "language_info": {
   "codemirror_mode": {
    "name": "ipython",
    "version": 3
   },
   "file_extension": ".py",
   "mimetype": "text/x-python",
   "name": "python",
   "nbconvert_exporter": "python",
   "pygments_lexer": "ipython3",
   "version": "3.6.2"
  }
 },
 "nbformat": 4,
 "nbformat_minor": 2
}
